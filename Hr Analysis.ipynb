{
 "cells": [
  {
   "cell_type": "code",
   "execution_count": 1,
   "id": "2bb00e61",
   "metadata": {},
   "outputs": [],
   "source": [
    "import pandas as pd\n",
    "import numpy as np\n",
    "import seaborn as sns\n",
    "import matplotlib.pyplot as plt"
   ]
  },
  {
   "cell_type": "code",
   "execution_count": 2,
   "id": "254b0758",
   "metadata": {},
   "outputs": [],
   "source": [
    "# Read csv and combined both test and train\n",
    "train=pd.read_csv(\"D://Pallavi//Data Science//Programming//Python//Hr Analytics//train.csv\")\n",
    "test=pd.read_csv(\"D://Pallavi//Data Science//Programming//Python//Hr Analytics//test.csv\")\n",
    "hr=train.append(test)"
   ]
  },
  {
   "cell_type": "code",
   "execution_count": 3,
   "id": "2fb365a3",
   "metadata": {},
   "outputs": [
    {
     "data": {
      "text/plain": [
       "(78298, 14)"
      ]
     },
     "execution_count": 3,
     "metadata": {},
     "output_type": "execute_result"
    }
   ],
   "source": [
    "# check row and column\n",
    "hr.shape"
   ]
  },
  {
   "cell_type": "code",
   "execution_count": 4,
   "id": "6de623cc",
   "metadata": {},
   "outputs": [
    {
     "name": "stdout",
     "output_type": "stream",
     "text": [
      "<class 'pandas.core.frame.DataFrame'>\n",
      "Int64Index: 78298 entries, 0 to 23489\n",
      "Data columns (total 14 columns):\n",
      " #   Column                Non-Null Count  Dtype  \n",
      "---  ------                --------------  -----  \n",
      " 0   employee_id           78298 non-null  int64  \n",
      " 1   department            78298 non-null  object \n",
      " 2   region                78298 non-null  object \n",
      " 3   education             74855 non-null  object \n",
      " 4   gender                78298 non-null  object \n",
      " 5   recruitment_channel   78298 non-null  object \n",
      " 6   no_of_trainings       78298 non-null  int64  \n",
      " 7   age                   78298 non-null  int64  \n",
      " 8   previous_year_rating  72362 non-null  float64\n",
      " 9   length_of_service     78298 non-null  int64  \n",
      " 10  KPIs_met >80%         78298 non-null  int64  \n",
      " 11  awards_won?           78298 non-null  int64  \n",
      " 12  avg_training_score    78298 non-null  int64  \n",
      " 13  is_promoted           54808 non-null  float64\n",
      "dtypes: float64(2), int64(7), object(5)\n",
      "memory usage: 9.0+ MB\n"
     ]
    }
   ],
   "source": [
    "# Check data typre\n",
    "hr.info()"
   ]
  },
  {
   "cell_type": "code",
   "execution_count": 5,
   "id": "4eab8bfb",
   "metadata": {},
   "outputs": [
    {
     "data": {
      "text/html": [
       "<div>\n",
       "<style scoped>\n",
       "    .dataframe tbody tr th:only-of-type {\n",
       "        vertical-align: middle;\n",
       "    }\n",
       "\n",
       "    .dataframe tbody tr th {\n",
       "        vertical-align: top;\n",
       "    }\n",
       "\n",
       "    .dataframe thead th {\n",
       "        text-align: right;\n",
       "    }\n",
       "</style>\n",
       "<table border=\"1\" class=\"dataframe\">\n",
       "  <thead>\n",
       "    <tr style=\"text-align: right;\">\n",
       "      <th></th>\n",
       "      <th>employee_id</th>\n",
       "      <th>department</th>\n",
       "      <th>region</th>\n",
       "      <th>education</th>\n",
       "      <th>gender</th>\n",
       "      <th>recruitment_channel</th>\n",
       "      <th>no_of_trainings</th>\n",
       "      <th>age</th>\n",
       "      <th>previous_year_rating</th>\n",
       "      <th>length_of_service</th>\n",
       "      <th>KPIs_met &gt;80%</th>\n",
       "      <th>awards_won?</th>\n",
       "      <th>avg_training_score</th>\n",
       "      <th>is_promoted</th>\n",
       "    </tr>\n",
       "  </thead>\n",
       "  <tbody>\n",
       "    <tr>\n",
       "      <th>count</th>\n",
       "      <td>78298.000000</td>\n",
       "      <td>78298</td>\n",
       "      <td>78298</td>\n",
       "      <td>74855</td>\n",
       "      <td>78298</td>\n",
       "      <td>78298</td>\n",
       "      <td>78298.000000</td>\n",
       "      <td>78298.000000</td>\n",
       "      <td>72362.000000</td>\n",
       "      <td>78298.000000</td>\n",
       "      <td>78298.000000</td>\n",
       "      <td>78298.000000</td>\n",
       "      <td>78298.000000</td>\n",
       "      <td>54808.000000</td>\n",
       "    </tr>\n",
       "    <tr>\n",
       "      <th>unique</th>\n",
       "      <td>NaN</td>\n",
       "      <td>9</td>\n",
       "      <td>34</td>\n",
       "      <td>3</td>\n",
       "      <td>2</td>\n",
       "      <td>3</td>\n",
       "      <td>NaN</td>\n",
       "      <td>NaN</td>\n",
       "      <td>NaN</td>\n",
       "      <td>NaN</td>\n",
       "      <td>NaN</td>\n",
       "      <td>NaN</td>\n",
       "      <td>NaN</td>\n",
       "      <td>NaN</td>\n",
       "    </tr>\n",
       "    <tr>\n",
       "      <th>top</th>\n",
       "      <td>NaN</td>\n",
       "      <td>Sales &amp; Marketing</td>\n",
       "      <td>region_2</td>\n",
       "      <td>Bachelor's</td>\n",
       "      <td>m</td>\n",
       "      <td>other</td>\n",
       "      <td>NaN</td>\n",
       "      <td>NaN</td>\n",
       "      <td>NaN</td>\n",
       "      <td>NaN</td>\n",
       "      <td>NaN</td>\n",
       "      <td>NaN</td>\n",
       "      <td>NaN</td>\n",
       "      <td>NaN</td>\n",
       "    </tr>\n",
       "    <tr>\n",
       "      <th>freq</th>\n",
       "      <td>NaN</td>\n",
       "      <td>24155</td>\n",
       "      <td>17642</td>\n",
       "      <td>52247</td>\n",
       "      <td>55092</td>\n",
       "      <td>43524</td>\n",
       "      <td>NaN</td>\n",
       "      <td>NaN</td>\n",
       "      <td>NaN</td>\n",
       "      <td>NaN</td>\n",
       "      <td>NaN</td>\n",
       "      <td>NaN</td>\n",
       "      <td>NaN</td>\n",
       "      <td>NaN</td>\n",
       "    </tr>\n",
       "    <tr>\n",
       "      <th>mean</th>\n",
       "      <td>39149.500000</td>\n",
       "      <td>NaN</td>\n",
       "      <td>NaN</td>\n",
       "      <td>NaN</td>\n",
       "      <td>NaN</td>\n",
       "      <td>NaN</td>\n",
       "      <td>1.253378</td>\n",
       "      <td>34.797619</td>\n",
       "      <td>3.332219</td>\n",
       "      <td>5.848974</td>\n",
       "      <td>0.354032</td>\n",
       "      <td>0.023053</td>\n",
       "      <td>63.349664</td>\n",
       "      <td>0.085170</td>\n",
       "    </tr>\n",
       "    <tr>\n",
       "      <th>std</th>\n",
       "      <td>22602.830026</td>\n",
       "      <td>NaN</td>\n",
       "      <td>NaN</td>\n",
       "      <td>NaN</td>\n",
       "      <td>NaN</td>\n",
       "      <td>NaN</td>\n",
       "      <td>0.606766</td>\n",
       "      <td>7.665928</td>\n",
       "      <td>1.260982</td>\n",
       "      <td>4.248070</td>\n",
       "      <td>0.478222</td>\n",
       "      <td>0.150073</td>\n",
       "      <td>13.383664</td>\n",
       "      <td>0.279137</td>\n",
       "    </tr>\n",
       "    <tr>\n",
       "      <th>min</th>\n",
       "      <td>1.000000</td>\n",
       "      <td>NaN</td>\n",
       "      <td>NaN</td>\n",
       "      <td>NaN</td>\n",
       "      <td>NaN</td>\n",
       "      <td>NaN</td>\n",
       "      <td>1.000000</td>\n",
       "      <td>20.000000</td>\n",
       "      <td>1.000000</td>\n",
       "      <td>1.000000</td>\n",
       "      <td>0.000000</td>\n",
       "      <td>0.000000</td>\n",
       "      <td>39.000000</td>\n",
       "      <td>0.000000</td>\n",
       "    </tr>\n",
       "    <tr>\n",
       "      <th>25%</th>\n",
       "      <td>19575.250000</td>\n",
       "      <td>NaN</td>\n",
       "      <td>NaN</td>\n",
       "      <td>NaN</td>\n",
       "      <td>NaN</td>\n",
       "      <td>NaN</td>\n",
       "      <td>1.000000</td>\n",
       "      <td>29.000000</td>\n",
       "      <td>3.000000</td>\n",
       "      <td>3.000000</td>\n",
       "      <td>0.000000</td>\n",
       "      <td>0.000000</td>\n",
       "      <td>51.000000</td>\n",
       "      <td>0.000000</td>\n",
       "    </tr>\n",
       "    <tr>\n",
       "      <th>50%</th>\n",
       "      <td>39149.500000</td>\n",
       "      <td>NaN</td>\n",
       "      <td>NaN</td>\n",
       "      <td>NaN</td>\n",
       "      <td>NaN</td>\n",
       "      <td>NaN</td>\n",
       "      <td>1.000000</td>\n",
       "      <td>33.000000</td>\n",
       "      <td>3.000000</td>\n",
       "      <td>5.000000</td>\n",
       "      <td>0.000000</td>\n",
       "      <td>0.000000</td>\n",
       "      <td>60.000000</td>\n",
       "      <td>0.000000</td>\n",
       "    </tr>\n",
       "    <tr>\n",
       "      <th>75%</th>\n",
       "      <td>58723.750000</td>\n",
       "      <td>NaN</td>\n",
       "      <td>NaN</td>\n",
       "      <td>NaN</td>\n",
       "      <td>NaN</td>\n",
       "      <td>NaN</td>\n",
       "      <td>1.000000</td>\n",
       "      <td>39.000000</td>\n",
       "      <td>4.000000</td>\n",
       "      <td>7.000000</td>\n",
       "      <td>1.000000</td>\n",
       "      <td>0.000000</td>\n",
       "      <td>76.000000</td>\n",
       "      <td>0.000000</td>\n",
       "    </tr>\n",
       "    <tr>\n",
       "      <th>max</th>\n",
       "      <td>78298.000000</td>\n",
       "      <td>NaN</td>\n",
       "      <td>NaN</td>\n",
       "      <td>NaN</td>\n",
       "      <td>NaN</td>\n",
       "      <td>NaN</td>\n",
       "      <td>10.000000</td>\n",
       "      <td>60.000000</td>\n",
       "      <td>5.000000</td>\n",
       "      <td>37.000000</td>\n",
       "      <td>1.000000</td>\n",
       "      <td>1.000000</td>\n",
       "      <td>99.000000</td>\n",
       "      <td>1.000000</td>\n",
       "    </tr>\n",
       "  </tbody>\n",
       "</table>\n",
       "</div>"
      ],
      "text/plain": [
       "         employee_id         department    region   education gender  \\\n",
       "count   78298.000000              78298     78298       74855  78298   \n",
       "unique           NaN                  9        34           3      2   \n",
       "top              NaN  Sales & Marketing  region_2  Bachelor's      m   \n",
       "freq             NaN              24155     17642       52247  55092   \n",
       "mean    39149.500000                NaN       NaN         NaN    NaN   \n",
       "std     22602.830026                NaN       NaN         NaN    NaN   \n",
       "min         1.000000                NaN       NaN         NaN    NaN   \n",
       "25%     19575.250000                NaN       NaN         NaN    NaN   \n",
       "50%     39149.500000                NaN       NaN         NaN    NaN   \n",
       "75%     58723.750000                NaN       NaN         NaN    NaN   \n",
       "max     78298.000000                NaN       NaN         NaN    NaN   \n",
       "\n",
       "       recruitment_channel  no_of_trainings           age  \\\n",
       "count                78298     78298.000000  78298.000000   \n",
       "unique                   3              NaN           NaN   \n",
       "top                  other              NaN           NaN   \n",
       "freq                 43524              NaN           NaN   \n",
       "mean                   NaN         1.253378     34.797619   \n",
       "std                    NaN         0.606766      7.665928   \n",
       "min                    NaN         1.000000     20.000000   \n",
       "25%                    NaN         1.000000     29.000000   \n",
       "50%                    NaN         1.000000     33.000000   \n",
       "75%                    NaN         1.000000     39.000000   \n",
       "max                    NaN        10.000000     60.000000   \n",
       "\n",
       "        previous_year_rating  length_of_service  KPIs_met >80%   awards_won?  \\\n",
       "count           72362.000000       78298.000000   78298.000000  78298.000000   \n",
       "unique                   NaN                NaN            NaN           NaN   \n",
       "top                      NaN                NaN            NaN           NaN   \n",
       "freq                     NaN                NaN            NaN           NaN   \n",
       "mean                3.332219           5.848974       0.354032      0.023053   \n",
       "std                 1.260982           4.248070       0.478222      0.150073   \n",
       "min                 1.000000           1.000000       0.000000      0.000000   \n",
       "25%                 3.000000           3.000000       0.000000      0.000000   \n",
       "50%                 3.000000           5.000000       0.000000      0.000000   \n",
       "75%                 4.000000           7.000000       1.000000      0.000000   \n",
       "max                 5.000000          37.000000       1.000000      1.000000   \n",
       "\n",
       "        avg_training_score   is_promoted  \n",
       "count         78298.000000  54808.000000  \n",
       "unique                 NaN           NaN  \n",
       "top                    NaN           NaN  \n",
       "freq                   NaN           NaN  \n",
       "mean             63.349664      0.085170  \n",
       "std              13.383664      0.279137  \n",
       "min              39.000000      0.000000  \n",
       "25%              51.000000      0.000000  \n",
       "50%              60.000000      0.000000  \n",
       "75%              76.000000      0.000000  \n",
       "max              99.000000      1.000000  "
      ]
     },
     "execution_count": 5,
     "metadata": {},
     "output_type": "execute_result"
    }
   ],
   "source": [
    "# Check measures of object and integer\n",
    "hr.describe(include=\"all\")"
   ]
  },
  {
   "cell_type": "code",
   "execution_count": 6,
   "id": "9ac1239c",
   "metadata": {},
   "outputs": [
    {
     "data": {
      "text/plain": [
       "employee_id              0.000000\n",
       "department               0.000000\n",
       "region                   0.000000\n",
       "education                4.397303\n",
       "gender                   0.000000\n",
       "recruitment_channel      0.000000\n",
       "no_of_trainings          0.000000\n",
       "age                      0.000000\n",
       "previous_year_rating     7.581292\n",
       "length_of_service        0.000000\n",
       "KPIs_met >80%            0.000000\n",
       "awards_won?              0.000000\n",
       "avg_training_score       0.000000\n",
       "is_promoted             30.000766\n",
       "dtype: float64"
      ]
     },
     "execution_count": 6,
     "metadata": {},
     "output_type": "execute_result"
    }
   ],
   "source": [
    "# Missing value in percentage\n",
    "((hr.isnull().sum())/hr.shape[0])*100"
   ]
  },
  {
   "cell_type": "code",
   "execution_count": 7,
   "id": "094ae00c",
   "metadata": {},
   "outputs": [
    {
     "data": {
      "text/plain": [
       "0.0    91.482995\n",
       "1.0     8.517005\n",
       "Name: is_promoted, dtype: float64"
      ]
     },
     "execution_count": 7,
     "metadata": {},
     "output_type": "execute_result"
    }
   ],
   "source": [
    "# Check Distribution of dependent variable\n",
    "hr['is_promoted'].value_counts(normalize=True)*100"
   ]
  },
  {
   "cell_type": "code",
   "execution_count": 8,
   "id": "5a6619ed",
   "metadata": {},
   "outputs": [
    {
     "data": {
      "text/plain": [
       "Sales & Marketing    30.850086\n",
       "Operations           20.577793\n",
       "Procurement          12.973511\n",
       "Technology           12.962017\n",
       "Analytics             9.797185\n",
       "Finance               4.632302\n",
       "HR                    4.473933\n",
       "Legal                 1.895323\n",
       "R&D                   1.837850\n",
       "Name: department, dtype: float64"
      ]
     },
     "execution_count": 8,
     "metadata": {},
     "output_type": "execute_result"
    }
   ],
   "source": [
    "# Check Distribution of department\n",
    "hr['department'].value_counts(normalize=True)*100"
   ]
  },
  {
   "cell_type": "code",
   "execution_count": 9,
   "id": "94afdec6",
   "metadata": {},
   "outputs": [
    {
     "data": {
      "text/plain": [
       "region_2     22.531865\n",
       "region_22    11.707834\n",
       "region_7      8.716698\n",
       "region_15     5.029503\n",
       "region_13     4.872411\n",
       "region_26     4.177629\n",
       "region_31     3.549261\n",
       "region_4      3.164832\n",
       "region_27     3.025620\n",
       "region_16     2.624588\n",
       "region_28     2.443230\n",
       "region_11     2.408746\n",
       "region_23     2.159698\n",
       "region_29     1.798258\n",
       "region_32     1.759943\n",
       "region_19     1.639889\n",
       "region_14     1.503231\n",
       "region_20     1.501954\n",
       "region_17     1.477688\n",
       "region_25     1.476411\n",
       "region_5      1.415106\n",
       "region_6      1.261846\n",
       "region_30     1.187770\n",
       "region_8      1.180107\n",
       "region_10     1.171167\n",
       "region_1      1.083042\n",
       "region_24     0.928504\n",
       "region_12     0.913178\n",
       "region_9      0.766303\n",
       "region_21     0.753531\n",
       "region_3      0.629646\n",
       "region_34     0.570896\n",
       "region_33     0.504483\n",
       "region_18     0.065136\n",
       "Name: region, dtype: float64"
      ]
     },
     "execution_count": 9,
     "metadata": {},
     "output_type": "execute_result"
    }
   ],
   "source": [
    "# Check Distribution of   region   \n",
    "hr['region'].value_counts(normalize=True)*100"
   ]
  },
  {
   "cell_type": "code",
   "execution_count": 10,
   "id": "a08ae71b",
   "metadata": {},
   "outputs": [
    {
     "data": {
      "text/plain": [
       "Bachelor's          69.797609\n",
       "Master's & above    28.627346\n",
       "Below Secondary      1.575045\n",
       "Name: education, dtype: float64"
      ]
     },
     "execution_count": 10,
     "metadata": {},
     "output_type": "execute_result"
    }
   ],
   "source": [
    "# Check Distribution of education\n",
    "hr['education'].value_counts(normalize=True)*100"
   ]
  },
  {
   "cell_type": "code",
   "execution_count": 11,
   "id": "c001b4ff",
   "metadata": {},
   "outputs": [
    {
     "data": {
      "text/plain": [
       "m    70.36195\n",
       "f    29.63805\n",
       "Name: gender, dtype: float64"
      ]
     },
     "execution_count": 11,
     "metadata": {},
     "output_type": "execute_result"
    }
   ],
   "source": [
    "# Check Distribution of gender \n",
    "hr['gender'].value_counts(normalize=True)*100"
   ]
  },
  {
   "cell_type": "code",
   "execution_count": 12,
   "id": "325a1fba",
   "metadata": {},
   "outputs": [
    {
     "data": {
      "text/plain": [
       "other       55.587627\n",
       "sourcing    42.377839\n",
       "referred     2.034535\n",
       "Name: recruitment_channel, dtype: float64"
      ]
     },
     "execution_count": 12,
     "metadata": {},
     "output_type": "execute_result"
    }
   ],
   "source": [
    "# Check Distribution of gender \n",
    "hr['recruitment_channel'].value_counts(normalize=True)*100"
   ]
  },
  {
   "cell_type": "code",
   "execution_count": 13,
   "id": "9864f30b",
   "metadata": {},
   "outputs": [
    {
     "name": "stderr",
     "output_type": "stream",
     "text": [
      "C:\\Users\\HP\\anaconda3\\lib\\site-packages\\seaborn\\distributions.py:2619: FutureWarning: `distplot` is a deprecated function and will be removed in a future version. Please adapt your code to use either `displot` (a figure-level function with similar flexibility) or `histplot` (an axes-level function for histograms).\n",
      "  warnings.warn(msg, FutureWarning)\n"
     ]
    },
    {
     "data": {
      "text/plain": [
       "<AxesSubplot:xlabel='age', ylabel='Density'>"
      ]
     },
     "execution_count": 13,
     "metadata": {},
     "output_type": "execute_result"
    },
    {
     "data": {
      "image/png": "[encoded data removed]",
      "text/plain": [
       "<Figure size 432x288 with 1 Axes>"
      ]
     },
     "metadata": {
      "needs_background": "light"
     },
     "output_type": "display_data"
    }
   ],
   "source": [
    "sns.distplot(hr.age)"
   ]
  },
  {
   "cell_type": "code",
   "execution_count": 14,
   "id": "fd2eb9e4",
   "metadata": {},
   "outputs": [
    {
     "name": "stderr",
     "output_type": "stream",
     "text": [
      "C:\\Users\\HP\\anaconda3\\lib\\site-packages\\seaborn\\_decorators.py:36: FutureWarning: Pass the following variable as a keyword arg: x. From version 0.12, the only valid positional argument will be `data`, and passing other arguments without an explicit keyword will result in an error or misinterpretation.\n",
      "  warnings.warn(\n"
     ]
    },
    {
     "data": {
      "text/plain": [
       "<AxesSubplot:xlabel='length_of_service'>"
      ]
     },
     "execution_count": 14,
     "metadata": {},
     "output_type": "execute_result"
    },
    {
     "data": {
      "image/png": "[encoded data removed]",
      "text/plain": [
       "<Figure size 432x288 with 1 Axes>"
      ]
     },
     "metadata": {
      "needs_background": "light"
     },
     "output_type": "display_data"
    }
   ],
   "source": [
    "sns.boxplot(hr.length_of_service)"
   ]
  },
  {
   "cell_type": "code",
   "execution_count": 22,
   "id": "385d96ac",
   "metadata": {},
   "outputs": [],
   "source": [
    "# Outlier treatement for length_of_service\n",
    "# 3 Sigma rule\n",
    "m3s=np.mean(hr['length_of_service'])+3*np.std(hr['length_of_service'])"
   ]
  },
  {
   "cell_type": "code",
   "execution_count": 23,
   "id": "14bda412",
   "metadata": {},
   "outputs": [
    {
     "name": "stdout",
     "output_type": "stream",
     "text": [
      "1377\n",
      "0.017586656108712868\n"
     ]
    }
   ],
   "source": [
    "print(hr[hr['length_of_service']>m3s]['length_of_service'].count())\n",
    "print(hr[hr['length_of_service']>m3s]['length_of_service'].count()/hr.shape[0])"
   ]
  },
  {
   "cell_type": "code",
   "execution_count": 24,
   "id": "81e03adc",
   "metadata": {},
   "outputs": [
    {
     "data": {
      "text/plain": [
       "24.0"
      ]
     },
     "execution_count": 24,
     "metadata": {},
     "output_type": "execute_result"
    }
   ],
   "source": [
    "# 99 persentile rule\n",
    "p99=np.percentile(hr['length_of_service'],99.5)\n",
    "p99"
   ]
  },
  {
   "cell_type": "code",
   "execution_count": 25,
   "id": "6ac2af4b",
   "metadata": {},
   "outputs": [
    {
     "name": "stdout",
     "output_type": "stream",
     "text": [
      "337\n",
      "0.004304069069452604\n"
     ]
    }
   ],
   "source": [
    "print(hr[hr['length_of_service']>np.percentile(hr['length_of_service'],99.5)]['length_of_service'].count())\n",
    "print(hr[hr['length_of_service']>np.percentile(hr['length_of_service'],99.5)]['length_of_service'].count()/hr.shape[0])"
   ]
  },
  {
   "cell_type": "code",
   "execution_count": 26,
   "id": "f1ceee17",
   "metadata": {},
   "outputs": [],
   "source": [
    "# shift outlier using 99.5 percentile\n",
    "hr[\"length_of_service_l\"]=np.where(hr.length_of_service>p99,p99,hr.length_of_service)"
   ]
  },
  {
   "cell_type": "code",
   "execution_count": 27,
   "id": "2e33243e",
   "metadata": {},
   "outputs": [
    {
     "name": "stderr",
     "output_type": "stream",
     "text": [
      "C:\\Users\\HP\\anaconda3\\lib\\site-packages\\seaborn\\distributions.py:2619: FutureWarning: `distplot` is a deprecated function and will be removed in a future version. Please adapt your code to use either `displot` (a figure-level function with similar flexibility) or `histplot` (an axes-level function for histograms).\n",
      "  warnings.warn(msg, FutureWarning)\n"
     ]
    },
    {
     "data": {
      "text/plain": [
       "<AxesSubplot:xlabel='length_of_service_l', ylabel='Density'>"
      ]
     },
     "execution_count": 27,
     "metadata": {},
     "output_type": "execute_result"
    },
    {
     "data": {
      "image/png": "[encoded data removed]",
      "text/plain": [
       "<Figure size 432x288 with 1 Axes>"
      ]
     },
     "metadata": {
      "needs_background": "light"
     },
     "output_type": "display_data"
    }
   ],
   "source": [
    "sns.distplot(hr.length_of_service_l)"
   ]
  },
  {
   "cell_type": "code",
   "execution_count": null,
   "id": "13681409",
   "metadata": {},
   "outputs": [],
   "source": []
  },
  {
   "cell_type": "code",
   "execution_count": 29,
   "id": "3e788918",
   "metadata": {},
   "outputs": [],
   "source": [
    "# sns.boxplot(log12)"
   ]
  },
  {
   "cell_type": "code",
   "execution_count": 30,
   "id": "8ac9bfc9",
   "metadata": {},
   "outputs": [
    {
     "name": "stderr",
     "output_type": "stream",
     "text": [
      "C:\\Users\\HP\\anaconda3\\lib\\site-packages\\seaborn\\_decorators.py:36: FutureWarning: Pass the following variable as a keyword arg: x. From version 0.12, the only valid positional argument will be `data`, and passing other arguments without an explicit keyword will result in an error or misinterpretation.\n",
      "  warnings.warn(\n"
     ]
    },
    {
     "data": {
      "text/plain": [
       "<AxesSubplot:xlabel='avg_training_score'>"
      ]
     },
     "execution_count": 30,
     "metadata": {},
     "output_type": "execute_result"
    },
    {
     "data": {
      "image/png": "[encoded data removed]",
      "text/plain": [
       "<Figure size 432x288 with 1 Axes>"
      ]
     },
     "metadata": {
      "needs_background": "light"
     },
     "output_type": "display_data"
    }
   ],
   "source": [
    "sns.boxplot(hr.avg_training_score)"
   ]
  },
  {
   "cell_type": "code",
   "execution_count": 31,
   "id": "f998796e",
   "metadata": {},
   "outputs": [
    {
     "data": {
      "text/plain": [
       "0    97.694705\n",
       "1     2.305295\n",
       "Name: awards_won?, dtype: float64"
      ]
     },
     "execution_count": 31,
     "metadata": {},
     "output_type": "execute_result"
    }
   ],
   "source": [
    "# Check Distribution of gender \n",
    "hr['awards_won?'].value_counts(normalize=True)*100"
   ]
  },
  {
   "cell_type": "markdown",
   "id": "e6e79c00",
   "metadata": {},
   "source": [
    "#### Bi-Variate Analysis"
   ]
  },
  {
   "cell_type": "code",
   "execution_count": 32,
   "id": "66f4eba5",
   "metadata": {},
   "outputs": [
    {
     "data": {
      "text/html": [
       "<div>\n",
       "<style scoped>\n",
       "    .dataframe tbody tr th:only-of-type {\n",
       "        vertical-align: middle;\n",
       "    }\n",
       "\n",
       "    .dataframe tbody tr th {\n",
       "        vertical-align: top;\n",
       "    }\n",
       "\n",
       "    .dataframe thead th {\n",
       "        text-align: right;\n",
       "    }\n",
       "</style>\n",
       "<table border=\"1\" class=\"dataframe\">\n",
       "  <thead>\n",
       "    <tr style=\"text-align: right;\">\n",
       "      <th></th>\n",
       "      <th>is_promoted</th>\n",
       "    </tr>\n",
       "    <tr>\n",
       "      <th>length_of_service</th>\n",
       "      <th></th>\n",
       "    </tr>\n",
       "  </thead>\n",
       "  <tbody>\n",
       "    <tr>\n",
       "      <th>1</th>\n",
       "      <td>0.082912</td>\n",
       "    </tr>\n",
       "    <tr>\n",
       "      <th>2</th>\n",
       "      <td>0.089019</td>\n",
       "    </tr>\n",
       "    <tr>\n",
       "      <th>3</th>\n",
       "      <td>0.086592</td>\n",
       "    </tr>\n",
       "    <tr>\n",
       "      <th>4</th>\n",
       "      <td>0.087478</td>\n",
       "    </tr>\n",
       "    <tr>\n",
       "      <th>5</th>\n",
       "      <td>0.081447</td>\n",
       "    </tr>\n",
       "    <tr>\n",
       "      <th>6</th>\n",
       "      <td>0.084706</td>\n",
       "    </tr>\n",
       "    <tr>\n",
       "      <th>7</th>\n",
       "      <td>0.083589</td>\n",
       "    </tr>\n",
       "    <tr>\n",
       "      <th>8</th>\n",
       "      <td>0.093306</td>\n",
       "    </tr>\n",
       "    <tr>\n",
       "      <th>9</th>\n",
       "      <td>0.087105</td>\n",
       "    </tr>\n",
       "    <tr>\n",
       "      <th>10</th>\n",
       "      <td>0.093023</td>\n",
       "    </tr>\n",
       "    <tr>\n",
       "      <th>11</th>\n",
       "      <td>0.104803</td>\n",
       "    </tr>\n",
       "    <tr>\n",
       "      <th>12</th>\n",
       "      <td>0.079345</td>\n",
       "    </tr>\n",
       "    <tr>\n",
       "      <th>13</th>\n",
       "      <td>0.078603</td>\n",
       "    </tr>\n",
       "    <tr>\n",
       "      <th>14</th>\n",
       "      <td>0.052823</td>\n",
       "    </tr>\n",
       "    <tr>\n",
       "      <th>15</th>\n",
       "      <td>0.072513</td>\n",
       "    </tr>\n",
       "    <tr>\n",
       "      <th>16</th>\n",
       "      <td>0.074818</td>\n",
       "    </tr>\n",
       "    <tr>\n",
       "      <th>17</th>\n",
       "      <td>0.060185</td>\n",
       "    </tr>\n",
       "    <tr>\n",
       "      <th>18</th>\n",
       "      <td>0.063776</td>\n",
       "    </tr>\n",
       "    <tr>\n",
       "      <th>19</th>\n",
       "      <td>0.097264</td>\n",
       "    </tr>\n",
       "    <tr>\n",
       "      <th>20</th>\n",
       "      <td>0.078125</td>\n",
       "    </tr>\n",
       "    <tr>\n",
       "      <th>21</th>\n",
       "      <td>0.051282</td>\n",
       "    </tr>\n",
       "    <tr>\n",
       "      <th>22</th>\n",
       "      <td>0.098361</td>\n",
       "    </tr>\n",
       "    <tr>\n",
       "      <th>23</th>\n",
       "      <td>0.107692</td>\n",
       "    </tr>\n",
       "    <tr>\n",
       "      <th>24</th>\n",
       "      <td>0.000000</td>\n",
       "    </tr>\n",
       "    <tr>\n",
       "      <th>25</th>\n",
       "      <td>0.039216</td>\n",
       "    </tr>\n",
       "    <tr>\n",
       "      <th>26</th>\n",
       "      <td>0.000000</td>\n",
       "    </tr>\n",
       "    <tr>\n",
       "      <th>27</th>\n",
       "      <td>0.027778</td>\n",
       "    </tr>\n",
       "    <tr>\n",
       "      <th>28</th>\n",
       "      <td>0.066667</td>\n",
       "    </tr>\n",
       "    <tr>\n",
       "      <th>29</th>\n",
       "      <td>0.100000</td>\n",
       "    </tr>\n",
       "    <tr>\n",
       "      <th>30</th>\n",
       "      <td>0.000000</td>\n",
       "    </tr>\n",
       "    <tr>\n",
       "      <th>31</th>\n",
       "      <td>0.000000</td>\n",
       "    </tr>\n",
       "    <tr>\n",
       "      <th>32</th>\n",
       "      <td>0.200000</td>\n",
       "    </tr>\n",
       "    <tr>\n",
       "      <th>33</th>\n",
       "      <td>0.000000</td>\n",
       "    </tr>\n",
       "    <tr>\n",
       "      <th>34</th>\n",
       "      <td>0.250000</td>\n",
       "    </tr>\n",
       "    <tr>\n",
       "      <th>37</th>\n",
       "      <td>0.000000</td>\n",
       "    </tr>\n",
       "  </tbody>\n",
       "</table>\n",
       "</div>"
      ],
      "text/plain": [
       "                   is_promoted\n",
       "length_of_service             \n",
       "1                     0.082912\n",
       "2                     0.089019\n",
       "3                     0.086592\n",
       "4                     0.087478\n",
       "5                     0.081447\n",
       "6                     0.084706\n",
       "7                     0.083589\n",
       "8                     0.093306\n",
       "9                     0.087105\n",
       "10                    0.093023\n",
       "11                    0.104803\n",
       "12                    0.079345\n",
       "13                    0.078603\n",
       "14                    0.052823\n",
       "15                    0.072513\n",
       "16                    0.074818\n",
       "17                    0.060185\n",
       "18                    0.063776\n",
       "19                    0.097264\n",
       "20                    0.078125\n",
       "21                    0.051282\n",
       "22                    0.098361\n",
       "23                    0.107692\n",
       "24                    0.000000\n",
       "25                    0.039216\n",
       "26                    0.000000\n",
       "27                    0.027778\n",
       "28                    0.066667\n",
       "29                    0.100000\n",
       "30                    0.000000\n",
       "31                    0.000000\n",
       "32                    0.200000\n",
       "33                    0.000000\n",
       "34                    0.250000\n",
       "37                    0.000000"
      ]
     },
     "execution_count": 32,
     "metadata": {},
     "output_type": "execute_result"
    }
   ],
   "source": [
    "hra_plot=hr.pivot_table(index=\"length_of_service\",values=\"is_promoted\",aggfunc=np.mean)\n",
    "# hra_plot=hr.pivot_table(index=\"length_of_service\",values=\"is_promoted\",aggfunc=np.sum)\n",
    "hra_plot"
   ]
  },
  {
   "cell_type": "code",
   "execution_count": 33,
   "id": "99e18554",
   "metadata": {},
   "outputs": [
    {
     "data": {
      "image/png": "[encoded data removed]",
      "text/plain": [
       "<Figure size 864x504 with 1 Axes>"
      ]
     },
     "metadata": {
      "needs_background": "light"
     },
     "output_type": "display_data"
    }
   ],
   "source": [
    "hra_plot.plot(kind=\"bar\",figsize=(12,7))\n",
    "plt.xlabel(\"service\")\n",
    "plt.ylabel(\"is_promoted\")\n",
    "plt.title(\"Service V/S is_promoted\")\n",
    "plt.xticks(rotation=0)\n",
    "plt.show()"
   ]
  },
  {
   "cell_type": "code",
   "execution_count": 34,
   "id": "8bd4129f",
   "metadata": {},
   "outputs": [
    {
     "data": {
      "text/plain": [
       "count    78298.000000\n",
       "mean         5.848974\n",
       "std          4.248070\n",
       "min          1.000000\n",
       "25%          3.000000\n",
       "50%          5.000000\n",
       "75%          7.000000\n",
       "max         37.000000\n",
       "Name: length_of_service, dtype: float64"
      ]
     },
     "execution_count": 34,
     "metadata": {},
     "output_type": "execute_result"
    }
   ],
   "source": [
    "hr.length_of_service.describe()"
   ]
  },
  {
   "cell_type": "code",
   "execution_count": 35,
   "id": "072cb8ed",
   "metadata": {},
   "outputs": [],
   "source": [
    "hr[\"length_Bucket\"]=np.where(hr.length_of_service<=5,\"1_0-5 yrs\",np.where(hr.length_of_service<=7,\"3_Above 7 yrs\",\"2_5-7 yrs\"))"
   ]
  },
  {
   "cell_type": "code",
   "execution_count": 36,
   "id": "0b69cd78",
   "metadata": {},
   "outputs": [
    {
     "data": {
      "text/html": [
       "<div>\n",
       "<style scoped>\n",
       "    .dataframe tbody tr th:only-of-type {\n",
       "        vertical-align: middle;\n",
       "    }\n",
       "\n",
       "    .dataframe tbody tr th {\n",
       "        vertical-align: top;\n",
       "    }\n",
       "\n",
       "    .dataframe thead th {\n",
       "        text-align: right;\n",
       "    }\n",
       "</style>\n",
       "<table border=\"1\" class=\"dataframe\">\n",
       "  <thead>\n",
       "    <tr style=\"text-align: right;\">\n",
       "      <th></th>\n",
       "      <th>length_Bucket</th>\n",
       "    </tr>\n",
       "  </thead>\n",
       "  <tbody>\n",
       "    <tr>\n",
       "      <th>1_0-5 yrs</th>\n",
       "      <td>44330</td>\n",
       "    </tr>\n",
       "    <tr>\n",
       "      <th>2_5-7 yrs</th>\n",
       "      <td>19301</td>\n",
       "    </tr>\n",
       "    <tr>\n",
       "      <th>3_Above 7 yrs</th>\n",
       "      <td>14667</td>\n",
       "    </tr>\n",
       "  </tbody>\n",
       "</table>\n",
       "</div>"
      ],
      "text/plain": [
       "               length_Bucket\n",
       "1_0-5 yrs              44330\n",
       "2_5-7 yrs              19301\n",
       "3_Above 7 yrs          14667"
      ]
     },
     "execution_count": 36,
     "metadata": {},
     "output_type": "execute_result"
    }
   ],
   "source": [
    "pd.DataFrame(hr.length_Bucket.value_counts())"
   ]
  },
  {
   "cell_type": "code",
   "execution_count": 39,
   "id": "e4267997",
   "metadata": {},
   "outputs": [
    {
     "data": {
      "text/plain": [
       "<AxesSubplot:>"
      ]
     },
     "execution_count": 39,
     "metadata": {},
     "output_type": "execute_result"
    },
    {
     "data": {
      "image/png": "[encoded data removed]",
      "text/plain": [
       "<Figure size 1296x720 with 2 Axes>"
      ]
     },
     "metadata": {
      "needs_background": "light"
     },
     "output_type": "display_data"
    }
   ],
   "source": [
    "f,ax=plt.subplots(figsize=(18,10))\n",
    "sns.heatmap(hr.corr(),annot=True,linewidth=.5,fmt='.1f')\n"
   ]
  },
  {
   "cell_type": "code",
   "execution_count": null,
   "id": "9ad11755",
   "metadata": {},
   "outputs": [],
   "source": []
  },
  {
   "cell_type": "code",
   "execution_count": null,
   "id": "67a2f14d",
   "metadata": {},
   "outputs": [],
   "source": []
  }
 ],
 "metadata": {
  "kernelspec": {
   "display_name": "Python 3 (ipykernel)",
   "language": "python",
   "name": "python3"
  },
  "language_info": {
   "codemirror_mode": {
    "name": "ipython",
    "version": 3
   },
   "file_extension": ".py",
   "mimetype": "text/x-python",
   "name": "python",
   "nbconvert_exporter": "python",
   "pygments_lexer": "ipython3",
   "version": "3.9.7"
  }
 },
 "nbformat": 4,
 "nbformat_minor": 5
}
